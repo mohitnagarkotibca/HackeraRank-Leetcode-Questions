{
 "cells": [
  {
   "cell_type": "markdown",
   "metadata": {},
   "source": [
    "You probably know the \"like\" system from Facebook and other pages. People can \"like\" blog posts, pictures or other items. We want to create the text that should be displayed next to such an item.<br>\n",
    "\n",
    "Implement a function likes :: [String] -> String, which must take in input array, containing the names of people who like an item. It must return the display text as shown in the examples:<br>\n",
    "\n",
    "likes([]) # must be \"no one likes this\" <br>\n",
    "likes([\"Peter\"]) # must be \"Peter likes this\"<br>\n",
    "likes([\"Jacob\", \"Alex\"]) # must be \"Jacob and Alex like this\"<br>\n",
    "likes([\"Max\", \"John\", \"Mark\"]) # must be \"Max, John and Mark like this\"<br>\n",
    "likes([\"Alex\", \"Jacob\", \"Mark\", \"Max\"]) # must be \"Alex, Jacob and 2 others like this\"<br>"
   ]
  },
  {
   "cell_type": "code",
   "execution_count": 8,
   "metadata": {},
   "outputs": [
    {
     "data": {
      "text/plain": [
       "'Peter likes this'"
      ]
     },
     "execution_count": 8,
     "metadata": {},
     "output_type": "execute_result"
    }
   ],
   "source": [
    "def likes(names):\n",
    "    if len(names)>3:\n",
    "        return '{}, {} and {} others like this'.format(names[0],names[1],len(names)-2)\n",
    "    if len(names)==3:\n",
    "        return '{}, {} and {} like this'.format(names[0],names[1],names[2])\n",
    "    if len(names)==2:\n",
    "        return '{} and {} like this'.format(names[0],names[1])\n",
    "    if len(names)==1:\n",
    "        return '{} likes this'.format(names[0])\n",
    "    return 'no one likes this'\n",
    "\n",
    "likes(['Alex', 'Jacob', 'Mark', 'Max'])\n",
    "likes([\"Jacob\", \"Alex\"])\n",
    "likes([\"Peter\"])"
   ]
  },
  {
   "cell_type": "code",
   "execution_count": null,
   "metadata": {},
   "outputs": [],
   "source": []
  },
  {
   "cell_type": "code",
   "execution_count": null,
   "metadata": {},
   "outputs": [],
   "source": []
  }
 ],
 "metadata": {
  "kernelspec": {
   "display_name": "Python 3",
   "language": "python",
   "name": "python3"
  },
  "language_info": {
   "codemirror_mode": {
    "name": "ipython",
    "version": 3
   },
   "file_extension": ".py",
   "mimetype": "text/x-python",
   "name": "python",
   "nbconvert_exporter": "python",
   "pygments_lexer": "ipython3",
   "version": "3.7.3"
  }
 },
 "nbformat": 4,
 "nbformat_minor": 4
}
