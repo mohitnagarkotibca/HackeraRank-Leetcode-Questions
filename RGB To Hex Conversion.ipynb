{
 "cells": [
  {
   "cell_type": "markdown",
   "metadata": {},
   "source": [
    "The rgb function is incomplete. Complete it so that passing in RGB decimal values will result in a hexadecimal representation being returned. Valid decimal values for RGB are 0 - 255. Any values that fall out of that range must be rounded to the closest valid value.<br>\n",
    "\n",
    "Note: Your answer should always be 6 characters long, the shorthand with 3 will not work here.<br>\n",
    "\n",
    "The following are examples of expected output values:\n",
    "\n",
    "rgb(255, 255, 255) # returns FFFFFF <br>\n",
    "rgb(255, 255, 300) # returns FFFFFF <br>\n",
    "rgb(0,0,0) # returns 000000 <br>\n",
    "rgb(148, 0, 211) # returns 9400D3 <br>"
   ]
  },
  {
   "cell_type": "code",
   "execution_count": 42,
   "metadata": {},
   "outputs": [
    {
     "name": "stdout",
     "output_type": "stream",
     "text": [
      "#000000\n"
     ]
    }
   ],
   "source": [
    "def rgb(r, g, b):\n",
    "    def clamp(x):\n",
    "        return max(0, min(x, 255))\n",
    "    return \"#{0:02x}{1:02x}{2:02x}\".format(clamp(r), clamp(g), clamp(b)).upper()\n",
    "\n",
    "print(rgb(0,0,0))#\"000000\""
   ]
  },
  {
   "cell_type": "code",
   "execution_count": 43,
   "metadata": {},
   "outputs": [
    {
     "name": "stdout",
     "output_type": "stream",
     "text": [
      "#010203\n"
     ]
    }
   ],
   "source": [
    "print(rgb(1,2,3))#010203"
   ]
  },
  {
   "cell_type": "code",
   "execution_count": 44,
   "metadata": {},
   "outputs": [
    {
     "name": "stdout",
     "output_type": "stream",
     "text": [
      "#FFFFFF\n"
     ]
    }
   ],
   "source": [
    "print(rgb(255,255,255))#FFFFFF"
   ]
  },
  {
   "cell_type": "code",
   "execution_count": 45,
   "metadata": {},
   "outputs": [
    {
     "name": "stdout",
     "output_type": "stream",
     "text": [
      "#FEFDFC\n"
     ]
    }
   ],
   "source": [
    "print(rgb(254,253,252))#FEFDFC"
   ]
  },
  {
   "cell_type": "code",
   "execution_count": 46,
   "metadata": {},
   "outputs": [
    {
     "name": "stdout",
     "output_type": "stream",
     "text": [
      "#00FF7D\n"
     ]
    }
   ],
   "source": [
    "print(rgb(-20,275,125))#00FF7D"
   ]
  }
 ],
 "metadata": {
  "kernelspec": {
   "display_name": "Python 3",
   "language": "python",
   "name": "python3"
  },
  "language_info": {
   "codemirror_mode": {
    "name": "ipython",
    "version": 3
   },
   "file_extension": ".py",
   "mimetype": "text/x-python",
   "name": "python",
   "nbconvert_exporter": "python",
   "pygments_lexer": "ipython3",
   "version": "3.7.3"
  }
 },
 "nbformat": 4,
 "nbformat_minor": 4
}
