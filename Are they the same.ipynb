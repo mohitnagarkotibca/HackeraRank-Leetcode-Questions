{
 "cells": [
  {
   "cell_type": "markdown",
   "metadata": {},
   "source": [
    "Given two arrays a and b write a function comp(a, b) (compSame(a, b) in Clojure) that checks whether the two arrays have the \"same\" elements, with the same multiplicities. \"Same\" means, here, that the elements in b are the elements in a squared, regardless of the order.<br>\n",
    "Examples <br>\n",
    "Valid arrays<br>\n",
    "<br>\n",
    "`a = [121, 144, 19, 161, 19, 144, 19, 11]`  <br>\n",
    "`b = [121, 14641, 20736, 361, 25921, 361, 20736, 361]`<br>\n",
    "\n",
    "comp(a, b) returns true because in b 121 is the square of 11, 14641 is the square of 121, 20736 the square of 144, 361 the square of 19, 25921 the square of 161, and so on. It gets obvious if we write b's elements in terms of squares:<br>\n",
    "\n",
    "`a = [121, 144, 19, 161, 19, 144, 19, 11]` <br>\n",
    "`b = [11*11, 121*121, 144*144, 19*19, 161*161, 19*19, 144*144, 19*19]`<br>\n",
    "\n",
    "Invalid arrays<br>\n",
    "\n",
    "If we change the first number to something else, comp may not return true anymore:<br>\n",
    "\n",
    "`a = [121, 144, 19, 161, 19, 144, 19, 11]  `\n",
    "`b = [132, 14641, 20736, 361, 25921, 361, 20736, 361]`\n",
    "\n",
    "comp(a,b) returns false because in b 132 is not the square of any number of a.<br>\n",
    "\n",
    "`a = [121, 144, 19, 161, 19, 144, 19, 11]`  \n",
    "`b = [121, 14641, 20736, 36100, 25921, 361, 20736, 361]`\n",
    "\n",
    "comp(a,b) returns false because in b 36100 is not the square of any number of a.<br>\n",
    "Remarks<br>\n",
    "\n",
    "    a or b might be [] (all languages except R, Shell).<br>\n",
    "    a or b might be nil or null or None or nothing (except in C++, Elixir, Haskell, PureScript, Pascal, R, Rust, Shell).\n",
    "<br>\n",
    "If a or b are nil (or null or None), the problem doesn't make sense so return false.<br>\n",
    "Note for C<br>\n",
    "\n",
    "The two arrays have the same size (> 0) given as parameter in function comp.<br>"
   ]
  },
  {
   "cell_type": "code",
   "execution_count": 3,
   "metadata": {},
   "outputs": [
    {
     "name": "stdout",
     "output_type": "stream",
     "text": [
      "[2, 2, 3] [4, 9, 9]\n"
     ]
    },
    {
     "data": {
      "text/plain": [
       "False"
      ]
     },
     "execution_count": 3,
     "metadata": {},
     "output_type": "execute_result"
    }
   ],
   "source": [
    "def comp(a,b):\n",
    "    print(a,b)\n",
    "    if a == None or b== None or a ==[] or b==[]:\n",
    "        if a==[] and b==[]:\n",
    "            return True\n",
    "        return False\n",
    "    li=[]\n",
    "    for num in a:\n",
    "        if num **2 in b:\n",
    "            b.remove(num**2)\n",
    "            li.append(True)\n",
    "    return li.count(True)== len(a)\n",
    "        \n",
    "\n",
    "    \n",
    "# a1 = [121, 144, 19, 161, 19, 144, 19, 11]\n",
    "# a2 = [11*11, 121*121, 144*144, 19*19, 161*161, 19*19, 144*144, 19*19]\n",
    "a1= [2, 2, 3] \n",
    "a2= [4, 9, 9]\n",
    "comp(a1, a2)"
   ]
  },
  {
   "cell_type": "code",
   "execution_count": null,
   "metadata": {},
   "outputs": [],
   "source": []
  },
  {
   "cell_type": "code",
   "execution_count": null,
   "metadata": {},
   "outputs": [],
   "source": []
  }
 ],
 "metadata": {
  "kernelspec": {
   "display_name": "Python 3",
   "language": "python",
   "name": "python3"
  },
  "language_info": {
   "codemirror_mode": {
    "name": "ipython",
    "version": 3
   },
   "file_extension": ".py",
   "mimetype": "text/x-python",
   "name": "python",
   "nbconvert_exporter": "python",
   "pygments_lexer": "ipython3",
   "version": "3.7.3"
  }
 },
 "nbformat": 4,
 "nbformat_minor": 4
}
