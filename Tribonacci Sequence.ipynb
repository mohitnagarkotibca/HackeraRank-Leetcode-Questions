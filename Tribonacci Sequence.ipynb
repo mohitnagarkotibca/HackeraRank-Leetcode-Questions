{
 "cells": [
  {
   "cell_type": "markdown",
   "metadata": {},
   "source": [
    "Well met with Fibonacci bigger brother, AKA Tribonacci.\n",
    "\n",
    "As the name may already reveal, it works basically like a Fibonacci, but summing the last 3 (instead of 2) numbers of the sequence to generate the next. And, worse part of it, regrettably I won't get to hear non-native Italian speakers trying to pronounce it :(\n",
    "\n",
    "So, if we are to start our Tribonacci sequence with [1, 1, 1] as a starting input (AKA signature), we have this sequence:\n",
    "\n",
    "[1, 1 ,1, 3, 5, 9, 17, 31, ...]\n",
    "\n",
    "But what if we started with [0, 0, 1] as a signature? As starting with [0, 1] instead of [1, 1] basically shifts the common Fibonacci sequence by once place, you may be tempted to think that we would get the same sequence shifted by 2 places, but that is not the case and we would get:\n",
    "\n",
    "[0, 0, 1, 1, 2, 4, 7, 13, 24, ...]\n",
    "\n",
    "Well, you may have guessed it by now, but to be clear: you need to create a fibonacci function that given a signature array/list, returns the first n elements - signature included of the so seeded sequence.\n",
    "\n",
    "Signature will always contain 3 numbers; n will always be a non-negative number; if n == 0, then return an empty array (except in C return NULL) and be ready for anything else which is not clearly specified ;)\n",
    "\n",
    "If you enjoyed this kata more advanced and generalized version of it can be found in the Xbonacci kata\n",
    "\n",
    "[Personal thanks to Professor Jim Fowler on Coursera for his awesome classes that I really recommend to any math enthusiast and for showing me this mathematical curiosity too with his usual contagious passion :)]\n",
    " "
   ]
  },
  {
   "cell_type": "code",
   "execution_count": 16,
   "metadata": {},
   "outputs": [
    {
     "data": {
      "text/plain": [
       "[1]"
      ]
     },
     "execution_count": 16,
     "metadata": {},
     "output_type": "execute_result"
    }
   ],
   "source": [
    "def tribonacci(signature, n):\n",
    "    if n==0:\n",
    "        return []\n",
    "    \n",
    "    temp= signature\n",
    "    for i in range(n):\n",
    "        temp.append(sum(temp[-3:]))\n",
    "    return temp[:n]\n",
    "\n",
    "tribonacci([1, 1, 1], 1)"
   ]
  },
  {
   "cell_type": "code",
   "execution_count": 12,
   "metadata": {},
   "outputs": [
    {
     "name": "stdout",
     "output_type": "stream",
     "text": [
      "[1, 1, 1, 3, 5, 9, 17, 31, 57, 105]\n",
      "[0, 0, 1, 1, 2, 4, 7, 13, 24, 44]\n",
      "[0, 1, 1, 2, 4, 7, 13, 24, 44, 81]\n",
      "[1, 0, 0, 1, 1, 2, 4, 7, 13, 24]\n",
      "[0, 0, 0, 0, 0, 0, 0, 0, 0, 0]\n",
      "[1, 2, 3, 6, 11, 20, 37, 68, 125, 230]\n",
      "[3, 2, 1, 6, 9, 16, 31, 56, 103, 190]\n",
      "[1, 1, 1]\n",
      "[0.5, 0.5, 0.5, 1.5, 2.5, 4.5, 8.5, 15.5, 28.5, 52.5, 96.5, 177.5, 326.5, 600.5, 1104.5, 2031.5, 3736.5, 6872.5, 12640.5, 23249.5, 42762.5, 78652.5, 144664.5, 266079.5, 489396.5, 900140.5, 1655616.5, 3045153.5, 5600910.5, 10301680.5]\n"
     ]
    }
   ],
   "source": [
    "tribonacci([1, 1, 1], 10)# [1, 1, 1, 3, 5, 9, 17, 31, 57, 105]\n",
    "tribonacci([0, 0, 1], 10)# [0, 0, 1, 1, 2, 4, 7, 13, 24, 44]\n",
    "tribonacci([0, 1, 1], 10)# [0, 1, 1, 2, 4, 7, 13, 24, 44, 81]\n",
    "tribonacci([1, 0, 0], 10)# [1, 0, 0, 1, 1, 2, 4, 7, 13, 24]\n",
    "tribonacci([0, 0, 0], 10)# [0, 0, 0, 0, 0, 0, 0, 0, 0, 0]\n",
    "tribonacci([1, 2, 3], 10)# [1, 2, 3, 6, 11, 20, 37, 68, 125, 230]\n",
    "tribonacci([3, 2, 1], 10)# [3, 2, 1, 6, 9, 16, 31, 56, 103, 190]\n",
    "tribonacci([1, 1, 1], 1)# [1]\n",
    "tribonacci([300, 200, 100], 0)# []\n",
    "tribonacci([0.5, 0.5, 0.5], 30)\n",
    "# [0.5, 0.5, 0.5, 1.5, 2.5, 4.5, 8.5, 15.5, 28.5, 52.5, 96.5, 177.5, 326.5, 600.5, 1104.5, 2031.5, 3736.5, 6872.5, 12640.5, 23249.5, 42762.5, 78652.5, 144664.5, 266079.5, 489396.5, 900140.5, 1655616.5, 3045153.5, 5600910.5, 10301680.5]"
   ]
  },
  {
   "cell_type": "code",
   "execution_count": null,
   "metadata": {},
   "outputs": [],
   "source": []
  },
  {
   "cell_type": "code",
   "execution_count": null,
   "metadata": {},
   "outputs": [],
   "source": []
  }
 ],
 "metadata": {
  "kernelspec": {
   "display_name": "Python 3",
   "language": "python",
   "name": "python3"
  },
  "language_info": {
   "codemirror_mode": {
    "name": "ipython",
    "version": 3
   },
   "file_extension": ".py",
   "mimetype": "text/x-python",
   "name": "python",
   "nbconvert_exporter": "python",
   "pygments_lexer": "ipython3",
   "version": "3.7.3"
  }
 },
 "nbformat": 4,
 "nbformat_minor": 4
}
