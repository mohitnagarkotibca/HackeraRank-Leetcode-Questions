{
 "cells": [
  {
   "cell_type": "markdown",
   "metadata": {},
   "source": [
    "Write a function that takes in a string of one or more words, and returns the same string, but with all five or more letter words reversed (Just like the name of this Kata). Strings passed in will consist of only letters and spaces. Spaces will be included only when more than one word is present.\n",
    "\n",
    "Examples: <br>\n",
    "spinWords( \"Hey fellow warriors\" ) <br> => returns \"Hey wollef sroirraw\" \n",
    "<br>\n",
    "spinWords( \"This is a test\") <br>\n",
    "=> returns \"This is a test\" \n",
    "<br>\n",
    "spinWords( \"This is another test\" )<br>=> returns \"This is rehtona test\"\n"
   ]
  },
  {
   "cell_type": "code",
   "execution_count": 32,
   "metadata": {},
   "outputs": [
    {
     "name": "stdout",
     "output_type": "stream",
     "text": [
      "1 sollution : Hey wollef sroirraw\n",
      "2nd sollution : Hey wollef sroirraw\n"
     ]
    }
   ],
   "source": [
    "#Sollution 1\n",
    "\n",
    "def spin_words(sentence):\n",
    "    s=[]\n",
    "    for word in sentence.split():\n",
    "        if len(word)>5:\n",
    "            word= word[::-1]\n",
    "        s.append(word)\n",
    "    return ' '.join(s)\n",
    "print('1 sollution :',spin_words('Hey fellow warriors'))\n",
    "#Sollution 2\n",
    "def spin_words2(sentence):\n",
    "    return ' '.join([word[::-1] if len(word)>=5 else word for word in sentence.split(' ')])\n",
    "print('2nd sollution :',spin_words2('Hey fellow warriors'))\n"
   ]
  },
  {
   "cell_type": "code",
   "execution_count": 20,
   "metadata": {},
   "outputs": [
    {
     "data": {
      "text/plain": [
       "'This is a test'"
      ]
     },
     "execution_count": 20,
     "metadata": {},
     "output_type": "execute_result"
    }
   ],
   "source": [
    "spin_words('This is a test')"
   ]
  },
  {
   "cell_type": "code",
   "execution_count": 21,
   "metadata": {},
   "outputs": [
    {
     "data": {
      "text/plain": [
       "'This is rehtona test'"
      ]
     },
     "execution_count": 21,
     "metadata": {},
     "output_type": "execute_result"
    }
   ],
   "source": [
    "spin_words('This is another test')"
   ]
  },
  {
   "cell_type": "code",
   "execution_count": 26,
   "metadata": {},
   "outputs": [
    {
     "data": {
      "text/plain": [
       "\"'be words words than of passed and but the name that more' dluohs equal 'be sdrow sdrow than of passed and but the name that more'\""
      ]
     },
     "execution_count": 26,
     "metadata": {},
     "output_type": "execute_result"
    }
   ],
   "source": [
    "spin_words(\"'be words words than of dessap and but the name that more' should equal 'be sdrow sdrow than of dessap and but the name that more'\")"
   ]
  }
 ],
 "metadata": {
  "kernelspec": {
   "display_name": "Python 3",
   "language": "python",
   "name": "python3"
  },
  "language_info": {
   "codemirror_mode": {
    "name": "ipython",
    "version": 3
   },
   "file_extension": ".py",
   "mimetype": "text/x-python",
   "name": "python",
   "nbconvert_exporter": "python",
   "pygments_lexer": "ipython3",
   "version": "3.7.3"
  }
 },
 "nbformat": 4,
 "nbformat_minor": 4
}
