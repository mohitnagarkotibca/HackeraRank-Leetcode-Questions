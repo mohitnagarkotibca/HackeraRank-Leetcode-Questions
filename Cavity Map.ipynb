{
 "cells": [
  {
   "cell_type": "markdown",
   "metadata": {},
   "source": [
    "You are given a square map as a matrix of integer strings. Each cell of the map has a value denoting its depth. We will call a cell of the map a cavity if and only if this cell is not on the border of the map and each cell adjacent to it has strictly smaller depth. Two cells are adjacent if they have a common side, or edge.\n",
    "\n",
    "Find all the cavities on the map and replace their depths with the uppercase character X.\n",
    "\n",
    "Example\n",
    "\n",
    "The grid is rearranged for clarity:\n",
    "`\n",
    "989\n",
    "191\n",
    "111\n",
    "`\n",
    "\n",
    "Return:\n",
    "`\n",
    "989\n",
    "1X1\n",
    "111\n",
    "`\n",
    "The center cell was deeper than those on its edges: [8,1,1,1]. The deep cells in the top two corners do not share an edge with the center cell, and none of the border cells is eligible.\n",
    "\n",
    "Function Description\n",
    "\n",
    "Complete the cavityMap function in the editor below.\n",
    "\n",
    "cavityMap has the following parameter(s):\n",
    "\n",
    "    string grid[n]: each string represents a row of the grid\n",
    "\n",
    "Returns\n",
    "\n",
    "    string{n}: the modified grid\n",
    "\n",
    "Input Format\n",
    "\n",
    "The first line contains an integer\n",
    "\n",
    ", the number of rows and columns in the grid.\n",
    "\n",
    "Each of the following\n",
    "lines (rows) contains positive digits without spaces (columns) that represent the depth at\n",
    "\n",
    ".\n",
    "\n",
    "Constraints\n",
    "\n",
    "Sample Input\n",
    "\n",
    "STDIN   Function\n",
    "-----   --------\n",
    "`\n",
    "grid = ['1112', '1912', '1892', '1234']\n",
    "grid[] size n = 4\n",
    "`\n",
    "\n",
    "`\n",
    "4     \n",
    "1112    \n",
    "1912\n",
    "1892\n",
    "1234\n",
    "`\n",
    "<br>\n",
    "<br>\n",
    "Sample Output<br>\n",
    "`\n",
    "1112\n",
    "1X12\n",
    "18X2\n",
    "1234\n",
    "`\n",
    "<br>\n",
    "Explanation\n",
    "\n",
    "The two cells with the depth of 9 are not on the border and are surrounded on all sides by shallower cells. Their values are replaced by X. "
   ]
  },
  {
   "cell_type": "code",
   "execution_count": 7,
   "metadata": {},
   "outputs": [
    {
     "name": "stdout",
     "output_type": "stream",
     "text": [
      "['1112', '1912', '1892', '1234']\n"
     ]
    }
   ],
   "source": [
    "#!/bin/python3\n",
    "\n",
    "import math\n",
    "import os\n",
    "import random\n",
    "import re\n",
    "import sys\n",
    "\n",
    "# Complete the cavityMap function below.\n",
    "def cavityMap(grid):\n",
    "    \n",
    "\n",
    "if __name__ == '__main__':\n",
    "\n",
    "#     n = int(input())\n",
    "\n",
    "#     grid = []\n",
    "\n",
    "#     for _ in range(n):\n",
    "#         grid_item = input()\n",
    "#         grid.append(grid_item)\n",
    "    t= ['1112','1912','1892','1234']\n",
    "    result = cavityMap(t)\n",
    "\n",
    "#     fptr.write('\\n'.join(result))\n",
    "#     fptr.write('\\n')\n",
    "\n",
    "#     fptr.close()\n"
   ]
  },
  {
   "cell_type": "code",
   "execution_count": 1,
   "metadata": {},
   "outputs": [
    {
     "data": {
      "text/plain": [
       "['1112', '1912', '1892', '1234']"
      ]
     },
     "execution_count": 1,
     "metadata": {},
     "output_type": "execute_result"
    }
   ],
   "source": [
    "t= ['1112','1912','1892','1234']\n",
    "t"
   ]
  },
  {
   "cell_type": "code",
   "execution_count": 42,
   "metadata": {},
   "outputs": [],
   "source": [
    "for j,num in enumerate(t):\n",
    "    for i,text in enumerate(num):\n",
    "        if i == 0 or i == (len(num)-1):\n",
    "            if i == (len(num)-1):\n",
    "                break\n",
    "            else:\n",
    "                continue\n",
    "               \n",
    "        else:\n",
    "            if (num[i-1]< num[i]) and (num[i+1]<num[i]):\n",
    "                t[j]= num.replace(str(num[i]),'X')\n",
    "                          "
   ]
  },
  {
   "cell_type": "code",
   "execution_count": 43,
   "metadata": {},
   "outputs": [
    {
     "data": {
      "text/plain": [
       "['1112', '1X12', '18X2', '1234']"
      ]
     },
     "execution_count": 43,
     "metadata": {},
     "output_type": "execute_result"
    }
   ],
   "source": [
    "t"
   ]
  },
  {
   "cell_type": "code",
   "execution_count": null,
   "metadata": {},
   "outputs": [],
   "source": []
  },
  {
   "cell_type": "code",
   "execution_count": null,
   "metadata": {},
   "outputs": [],
   "source": []
  },
  {
   "cell_type": "code",
   "execution_count": null,
   "metadata": {},
   "outputs": [],
   "source": []
  }
 ],
 "metadata": {
  "kernelspec": {
   "display_name": "Python 3",
   "language": "python",
   "name": "python3"
  },
  "language_info": {
   "codemirror_mode": {
    "name": "ipython",
    "version": 3
   },
   "file_extension": ".py",
   "mimetype": "text/x-python",
   "name": "python",
   "nbconvert_exporter": "python",
   "pygments_lexer": "ipython3",
   "version": "3.7.3"
  }
 },
 "nbformat": 4,
 "nbformat_minor": 4
}
